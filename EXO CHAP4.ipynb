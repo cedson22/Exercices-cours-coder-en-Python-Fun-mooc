{
 "cells": [
  {
   "cell_type": "code",
   "execution_count": null,
   "metadata": {
    "collapsed": true,
    "pycharm": {
     "name": "#%%\n",
     "is_executing": true
    }
   },
   "outputs": [],
   "source": [
    "import cmath\n",
    "import math\n",
    "\n",
    "\n",
    "def fibo(n):\n",
    "    \"\"\"calcule le n-ième nombre de Fibonacci, avec : n de type int et\n",
    "    fibo(0) valant 0\n",
    "    fibo(1) valant 1 et\n",
    "    fibo(n+1) valant fibo(n-1) + fibo(n)\"\"\"\n",
    "    if n < 0 : # fibo(n) retourne None\n",
    "        res = None\n",
    "    else:\n",
    "        res = 0\n",
    "        suivant = 1\n",
    "        for j in range(n): # calcule n fois le nombre de Fibonacci suivant\n",
    "            res, suivant = suivant, res + suivant\n",
    "        return res\n",
    "for i in range(100):\n",
    "    print(fibo(i), end=' ')"
   ]
  },
  {
   "cell_type": "code",
   "execution_count": 18,
   "outputs": [
    {
     "name": "stdout",
     "output_type": "stream",
     "text": [
      "610\n"
     ]
    }
   ],
   "source": [
    "def fibo(n):\n",
    "    if n < 2:\n",
    "        res = n # fibo(0) vaut 0 et fibo(1) vaut 1\n",
    "    else: # n >= 2\n",
    "        res = fibo(n-1) + fibo(n-2)\n",
    "    return res\n",
    "\n",
    "print(fibo(15))"
   ],
   "metadata": {
    "collapsed": false,
    "pycharm": {
     "name": "#%%\n"
    }
   }
  },
  {
   "cell_type": "code",
   "execution_count": 1,
   "outputs": [
    {
     "name": "stdout",
     "output_type": "stream",
     "text": [
      "True\n"
     ]
    }
   ],
   "source": [
    "# ÉNONCÉ DE L'EXERCICE UPYLAB 4.1\n",
    "def deux_egaux(a, b, c):\n",
    "    \"\"\"cette fonction renvoie la valeur booléenne True si au moins deux de ces nombres ont la même valeur, et la valeur booléenne False sinon\"\"\"\n",
    "    if a == b or a== c or b == c :\n",
    "        res = True\n",
    "        return res\n",
    "    else:\n",
    "        res = False\n",
    "        return  res\n",
    "a = int(input())\n",
    "b = int(input())\n",
    "c = int(input())\n",
    "print(deux_egaux(a,b,c))"
   ],
   "metadata": {
    "collapsed": false,
    "pycharm": {
     "name": "#%%\n"
    }
   }
  },
  {
   "cell_type": "code",
   "execution_count": 120,
   "outputs": [
    {
     "data": {
      "text/plain": "False"
     },
     "execution_count": 120,
     "metadata": {},
     "output_type": "execute_result"
    }
   ],
   "source": [
    "## UPYLAB 4.2A\n",
    "\"\"\"if a:\n",
    "teste si a est différent de 0 : dans ce cas le test est considéré comme vrai !\n",
    "\n",
    "Donc dans ton code :\n",
    "\n",
    "if a or b or == 4:\n",
    "ne fait pas ce que tu crois : cela teste si a ou b est différent de 0 ou si c vaut 4. Ton test devrait être :\n",
    "\n",
    "if a == 4 or b == 4 or == 4:\"\"\"\n",
    "\n",
    "\"\"\"Pour cela, vous allez dans un premier temps écrire une fonction soleil_leve qui, pour un soleil particulier, reçoit trois valeurs entières en argument pour la planète :\n",
    "     - l'heure de lever du soleil (entre 0 et 23)\n",
    "     - l'heure du coucher du soleil (entre 0 et 23)\n",
    "     - l'heure actuelle (entre 0 et 23)\"\"\"\n",
    "\n",
    "def soleil_leve (a,b,c):\n",
    "    \"\"\"l'heure de levé du soleil\"\"\"\n",
    "    if a==12 and b ==12:\n",
    "        res = False\n",
    "        return res\n",
    "    elif a== 0 and b== 0:\n",
    "        res = True\n",
    "        return res\n",
    "    elif (a > b) and (c < a and c < b):\n",
    "        res = True\n",
    "        return res\n",
    "    elif (a > b) and (c < a and c >= b):\n",
    "        res = False\n",
    "        return res\n",
    "    elif (a < b) and (c >= a and c < b) :\n",
    "        res = True\n",
    "        return res\n",
    "    elif (a > b) and (c-b):\n",
    "        res = True\n",
    "        return res\n",
    "    else:\n",
    "        res = False\n",
    "        return res\n",
    "soleil_leve(10,21, 7)\n"
   ],
   "metadata": {
    "collapsed": false,
    "pycharm": {
     "name": "#%%\n"
    }
   }
  },
  {
   "cell_type": "code",
   "execution_count": 121,
   "outputs": [
    {
     "data": {
      "text/plain": "True"
     },
     "execution_count": 121,
     "metadata": {},
     "output_type": "execute_result"
    }
   ],
   "source": [
    "soleil_leve(6, 8, 7)"
   ],
   "metadata": {
    "collapsed": false,
    "pycharm": {
     "name": "#%%\n"
    }
   }
  },
  {
   "cell_type": "code",
   "execution_count": 122,
   "outputs": [
    {
     "name": "stdout",
     "output_type": "stream",
     "text": [
      "0 *\n",
      "1 *\n",
      "2 *\n",
      "3 *\n",
      "4 *\n",
      "5 *\n",
      "6\n",
      "7\n",
      "8\n",
      "9\n",
      "10\n",
      "11\n",
      "12\n",
      "13\n",
      "14\n",
      "15\n",
      "16\n",
      "17\n",
      "18\n",
      "19\n",
      "20\n",
      "21 *\n",
      "22 *\n",
      "23 *\n"
     ]
    }
   ],
   "source": [
    "## UPYLAB 4.2B\n",
    "\"\"\"Il vous faut maintenant écrire un programme qui lit en entrée :\n",
    "\n",
    "\n",
    ". l'heure de lever du soleil E1515\n",
    ". l'heure du coucher du soleil E1515\n",
    ". l'heure de lever du soleil E666\n",
    ". l'heure du coucher du soleil E666\n",
    "\n",
    "et qui utilise la fonction soleil_leve pour afficher ligne par ligne chacune des heures de la journée, depuis 0 jusqu'à 23, suivies d'une espace et d'une astérisque s'il fait nuit à cette heure.\n",
    "\n",
    "Attention, il ne fera nuit que si E1515 et E666 sont tous deux couchés.\"\"\"\n",
    "\n",
    "x1 = int(input())\n",
    "x2 = int(input())\n",
    "y1 = int(input())\n",
    "y2 = int(input())\n",
    "for i in range(24):\n",
    "    a = soleil_leve(x1,x2,i)\n",
    "    b = soleil_leve(y1,y2,i)\n",
    "    if (a == False) and (b == False):\n",
    "        print(i,\"*\",sep=' ')\n",
    "    else:\n",
    "        print(i)\n"
   ],
   "metadata": {
    "collapsed": false,
    "pycharm": {
     "name": "#%%\n"
    }
   }
  },
  {
   "cell_type": "code",
   "execution_count": 186,
   "outputs": [
    {
     "name": "stdout",
     "output_type": "stream",
     "text": [
      "2\n",
      "3\n",
      "5\n",
      "7\n",
      "11\n"
     ]
    }
   ],
   "source": [
    "# ÉNONCÉ EXERCICE UPYLAB 4.3\n",
    "\"\"\"Écrire une fonction booléenne premier(n) qui reçoit un nombre entier positif n et qui renvoie True si n est un nombre premier, et False sinon.\"\"\"\n",
    "\n",
    "def premier (n):\n",
    "    \"\"\"Cette fonction vérifie si l'entier n est premier ou non\"\"\"\n",
    "    if n in range (2):\n",
    "        return False\n",
    "    else:\n",
    "        for i in range (2,n):\n",
    "            if (n % i) == 0:\n",
    "                return False\n",
    "    return True\n",
    "\n",
    "x = int(input())\n",
    "for i in range(2,x):\n",
    "    if (premier(i) == True) :\n",
    "        print(i)\n",
    "\n"
   ],
   "metadata": {
    "collapsed": false,
    "pycharm": {
     "name": "#%%\n"
    }
   }
  },
  {
   "cell_type": "code",
   "execution_count": 10,
   "outputs": [
    {
     "data": {
      "text/plain": "(23, 24)"
     },
     "execution_count": 10,
     "metadata": {},
     "output_type": "execute_result"
    }
   ],
   "source": [
    "# 5.1.8. Exercice UpyLaB 5.3 - Parcours vert bleu rouge\n",
    "\n",
    "def duree(debut, fin):\n",
    "    \"\"\"Cette fonction permet de calculer la durée qui s’est écoulée entre ces deux instants\"\"\"\n",
    "    minute = fin[1]- debut[1]\n",
    "    heure = fin[0]- debut[0]\n",
    "    if (minute < 0 and heure >= 0) :\n",
    "        heure -=1\n",
    "        minute += 60\n",
    "        if heure > 0:\n",
    "            res = (heure,minute)\n",
    "            return res\n",
    "        else:\n",
    "            heure += 24\n",
    "            res = (heure,minute)\n",
    "            return res\n",
    "    elif (minute < 0 and heure < 0):\n",
    "        heure += 23\n",
    "        minute += 60\n",
    "        res = (heure,minute)\n",
    "        return res\n",
    "    elif (minute > 0 and heure < 0):\n",
    "        heure += 24\n",
    "        res = (heure, minute)\n",
    "        return res\n",
    "    else:\n",
    "        res = (heure, minute)\n",
    "        return res\n",
    "\n",
    "\n",
    "duree((7, 54), (7, 18))\n",
    "\n"
   ],
   "metadata": {
    "collapsed": false,
    "pycharm": {
     "name": "#%%\n"
    }
   }
  },
  {
   "cell_type": "code",
   "execution_count": 15,
   "outputs": [
    {
     "data": {
      "text/plain": "3.0413812651491097"
     },
     "execution_count": 15,
     "metadata": {},
     "output_type": "execute_result"
    }
   ],
   "source": [
    "# 5.1.9. Exercice UpyLaB 5.4 - Parcours vert bleu rouge\n",
    "\n",
    "def distance_points(a,b):\n",
    "    \"\"\" Cette fonction permet de calculer la la distance euclidienne séparant  deux points.\"\"\"\n",
    "    dist = (b[0]-a[0])**2 + (b[1] - a [1])**2\n",
    "    res = dist**(1/2)\n",
    "    return res\n",
    "\n",
    "distance_points((-1.0, 0.5), (2.0, 1.0))"
   ],
   "metadata": {
    "collapsed": false,
    "pycharm": {
     "name": "#%%\n"
    }
   }
  },
  {
   "cell_type": "code",
   "execution_count": 57,
   "outputs": [
    {
     "data": {
      "text/plain": "7.1122677042334645"
     },
     "execution_count": 57,
     "metadata": {},
     "output_type": "execute_result"
    }
   ],
   "source": [
    "# 5.1.11. Exercice UpyLaB 5.5 - Parcours bleu rouge\n",
    "'''Écrire une fonction longueur(*points) qui reçoit en paramètres un nombre arbitraire de points (tuples de deux composantes), et retourne la longueur de la ligne brisée correspondante.\n",
    "\n",
    "Cette longueur se calcule en additionnant les longueurs des segments formés par deux points consécutifs.'''\n",
    "\n",
    "def longueur(*points):\n",
    "    valeurs = list(points)\n",
    "    #valeurs.sort()\n",
    "    dist = 0\n",
    "    for i in range(1,len(valeurs)):\n",
    "        dist += distance_points(valeurs[i-1], valeurs[i])\n",
    "    res = dist\n",
    "    return res\n",
    "\n",
    "longueur((0.5, 1.0), (2.0, 1.0), (2.5, -0.5), (-1.5, -1.0))"
   ],
   "metadata": {
    "collapsed": false,
    "pycharm": {
     "name": "#%%\n"
    }
   }
  },
  {
   "cell_type": "code",
   "execution_count": 27,
   "outputs": [
    {
     "name": "stdout",
     "output_type": "stream",
     "text": [
      "Le paramètre est un tuple valant : ((1.0, 1.0), (2.0, 1.0), (3.0, 1.0))\n",
      "nombre d'éléments de valeurs 3\n",
      "(3.0, 1.0)\n",
      "((1.0, 1.0), (2.0, 1.0), (3.0, 1.0))\n"
     ]
    }
   ],
   "source": [
    "def ma_fonction(*valeurs) :\n",
    "    print(\"Le paramètre est un tuple valant :\", valeurs)\n",
    "    print (\"nombre d'éléments de valeurs\", len(valeurs))\n",
    "    print (max(valeurs))\n",
    "    points = valeurs\n",
    "    print(points)\n",
    "ma_fonction((1.0, 1.0), (2.0, 1.0), (3.0, 1.0))\n"
   ],
   "metadata": {
    "collapsed": false,
    "pycharm": {
     "name": "#%%\n"
    }
   }
  },
  {
   "cell_type": "code",
   "execution_count": 56,
   "outputs": [
    {
     "name": "stdout",
     "output_type": "stream",
     "text": [
      "[(-1.5, -1.0), (0.5, 1.0), (2.0, 1.0), (2.5, -0.5)] (-1.5, -1.0)\n"
     ]
    }
   ],
   "source": [
    "a = ((0.5, 1.0), (2.0, 1.0), (2.5, -0.5), (-1.5, -1.0))\n",
    "b = min (a)\n",
    "#print(b)\n",
    "c = (2,3,1,0)\n",
    "c1 = list(a)\n",
    "c1.sort()\n",
    "print(c1, min(c1))\n",
    "\n"
   ],
   "metadata": {
    "collapsed": false,
    "pycharm": {
     "name": "#%%\n"
    }
   }
  },
  {
   "cell_type": "code",
   "execution_count": null,
   "outputs": [],
   "source": [
    "\"\"\" auteur: Thierry Massart\n",
    "    date : 10 avril 2018\n",
    "    but du programme : trace avec turtle des spirales\n",
    "\"\"\"\n",
    "\n",
    "import turtle\n",
    "\n",
    "def spirale(couleur, largeur):\n",
    "    \"\"\" Dessine avec turtle une spirale\n",
    "    paramètres :\n",
    "    - couleur : la couleur à utiliser\n",
    "    - largeur : la largeur du tracé\"\"\"\n",
    "\n",
    "    turtle.color(couleur)\n",
    "    turtle.width(largeur)\n",
    "    for i in range(100):\n",
    "        turtle.circle(i*(largeur/2),90)\n",
    "\n",
    "while True:\n",
    "    turtle.reset()\n",
    "    turtle.speed(0)\n",
    "    spirale('red', 10)"
   ],
   "metadata": {
    "collapsed": false,
    "pycharm": {
     "name": "#%%\n",
     "is_executing": true
    }
   }
  },
  {
   "cell_type": "code",
   "execution_count": 48,
   "outputs": [
    {
     "data": {
      "text/plain": "3.0"
     },
     "execution_count": 48,
     "metadata": {},
     "output_type": "execute_result"
    }
   ],
   "source": [
    "\"\"\"Ayant importé turtle, cos, sin et pi, après avoir positionné la tortue, avec turtle.goto(x+rayon, y) , au premier sommet du polygone de centre (x, y) et de rayon rayon, le code suivant trace le polygone à n côtés\"\"\"\n",
    "\n",
    "import turtle\n",
    "from math import pi, cos, sin\n",
    "\n",
    "\n",
    "for i in range(1,n+1):\n",
    "    turtle.goto(x+rayon*cos(i*2*pi/n), y+rayon*sin(i*2*pi/n))"
   ],
   "metadata": {
    "collapsed": false,
    "pycharm": {
     "name": "#%%\n"
    }
   }
  },
  {
   "cell_type": "code",
   "execution_count": 53,
   "outputs": [
    {
     "data": {
      "text/plain": "<function time.ctime>"
     },
     "execution_count": 53,
     "metadata": {},
     "output_type": "execute_result"
    }
   ],
   "source": [
    "import time\n",
    "time.ctime"
   ],
   "metadata": {
    "collapsed": false,
    "pycharm": {
     "name": "#%%\n"
    }
   }
  },
  {
   "cell_type": "code",
   "execution_count": 59,
   "outputs": [],
   "source": [
    "s = \"12345678\"\n",
    "l = [3, 0, 1]"
   ],
   "metadata": {
    "collapsed": false,
    "pycharm": {
     "name": "#%%\n"
    }
   }
  },
  {
   "cell_type": "code",
   "execution_count": 198,
   "outputs": [
    {
     "data": {
      "text/plain": "<Figure size 432x288 with 1 Axes>",
      "image/png": "[encoded data removed]"
     },
     "metadata": {
      "needs_background": "light"
     },
     "output_type": "display_data"
    }
   ],
   "source": [
    "v = np.array([1,3,2,4])\n",
    "import numpy as np\n",
    "import matplotlib.pyplot as plt\n",
    "plt.figure()\n",
    "plt.plot(v)\n",
    "plt.show()"
   ],
   "metadata": {
    "collapsed": false,
    "pycharm": {
     "name": "#%%\n"
    }
   }
  },
  {
   "cell_type": "code",
   "execution_count": 237,
   "outputs": [
    {
     "data": {
      "text/plain": "<Figure size 432x288 with 1 Axes>",
      "image/png": "[encoded data removed]"
     },
     "metadata": {
      "needs_background": "light"
     },
     "output_type": "display_data"
    }
   ],
   "source": [
    "m = np.array([[1,3],[2,4]])\n",
    "v = np.array([1,3,2,4])\n",
    "x = np.array([0,2,4,6])\n",
    "plt.figure()\n",
    "plt.plot(x,v,'b--',label = 'mon premier graphique avec matplotlib')\n",
    "plt.xlabel('Variable en ligne: x')\n",
    "plt.ylabel('Variable en colonne: v')\n",
    "plt.title('Titre du graphique')\n",
    "plt.legend(loc = 'upper left')\n",
    "plt.show()\n",
    "\n"
   ],
   "metadata": {
    "collapsed": false,
    "pycharm": {
     "name": "#%%\n"
    }
   }
  },
  {
   "cell_type": "code",
   "execution_count": 245,
   "outputs": [
    {
     "name": "stdout",
     "output_type": "stream",
     "text": [
      "[[[1. 3. 2. 4.]]]\n",
      "(1, 1, 4)\n",
      "[[1. 3.]\n",
      " [2. 4.]]\n",
      "float64\n"
     ]
    },
    {
     "data": {
      "text/plain": "8"
     },
     "execution_count": 245,
     "metadata": {},
     "output_type": "execute_result"
    }
   ],
   "source": [
    "t = np.array([[[1,3,2,4]]], dtype ='float64')\n",
    "print(t)\n",
    "t.ndim\n",
    "print(t.shape)\n",
    "z = t.reshape(2,2)\n",
    "print(z)\n",
    "print(t.dtype)\n",
    "t.nbytes\n",
    "t.itemsize"
   ],
   "metadata": {
    "collapsed": false,
    "pycharm": {
     "name": "#%%\n"
    }
   }
  },
  {
   "cell_type": "code",
   "execution_count": null,
   "outputs": [],
   "source": [
    "def test(a, n=2):\n",
    "    out = a\n",
    "    for k in range(1, n):\n",
    "        out += a\n",
    "    return out"
   ],
   "metadata": {
    "collapsed": false,
    "pycharm": {
     "name": "#%%\n"
    }
   }
  },
  {
   "cell_type": "code",
   "execution_count": 97,
   "outputs": [
    {
     "data": {
      "text/plain": "'aaaa0000'"
     },
     "execution_count": 97,
     "metadata": {},
     "output_type": "execute_result"
    }
   ],
   "source": [
    "\"%s%s\" % (\"aaaa\",\"0000\")"
   ],
   "metadata": {
    "collapsed": false,
    "pycharm": {
     "name": "#%%\n"
    }
   }
  },
  {
   "cell_type": "code",
   "execution_count": 279,
   "outputs": [
    {
     "name": "stdout",
     "output_type": "stream",
     "text": [
      "{'a', 'o', 'c'}\n"
     ]
    }
   ],
   "source": [
    "r = {'cacao'}\n",
    "s = set('cacao')\n",
    "t = {'a', 'e', 'i', 'o', 'u', 'y'}\n",
    "print(s)"
   ],
   "metadata": {
    "collapsed": false,
    "pycharm": {
     "name": "#%%\n"
    }
   }
  },
  {
   "cell_type": "code",
   "execution_count": 310,
   "outputs": [
    {
     "name": "stdout",
     "output_type": "stream",
     "text": [
      "{1: 22}\n"
     ]
    }
   ],
   "source": [
    "d = {}\n",
    "b = 4.5\n",
    "d[1] = 22\n",
    "print(d)"
   ],
   "metadata": {
    "collapsed": false,
    "pycharm": {
     "name": "#%%\n"
    }
   }
  },
  {
   "cell_type": "code",
   "execution_count": 347,
   "outputs": [],
   "source": [
    "from numpy import random\n",
    "a = random.standard_normal(100)"
   ],
   "metadata": {
    "collapsed": false,
    "pycharm": {
     "name": "#%%\n"
    }
   }
  },
  {
   "cell_type": "code",
   "execution_count": 340,
   "outputs": [
    {
     "data": {
      "text/plain": "<Figure size 432x288 with 1 Axes>",
      "image/png": "[encoded data removed]"
     },
     "metadata": {
      "needs_background": "light"
     },
     "output_type": "display_data"
    }
   ],
   "source": [
    "hh = plt.hist(a, 40, color= 'y')"
   ],
   "metadata": {
    "collapsed": false,
    "pycharm": {
     "name": "#%%\n"
    }
   }
  },
  {
   "cell_type": "code",
   "execution_count": 345,
   "outputs": [
    {
     "data": {
      "text/plain": "<Figure size 432x288 with 2 Axes>",
      "image/png": "[encoded data removed]"
     },
     "metadata": {
      "needs_background": "light"
     },
     "output_type": "display_data"
    }
   ],
   "source": [
    "c = random.standard_normal((32,32))\n",
    "plt.imshow(c, interpolation= 'nearest')\n",
    "plt.colorbar()\n",
    "plt.show()"
   ],
   "metadata": {
    "collapsed": false,
    "pycharm": {
     "name": "#%%\n"
    }
   }
  },
  {
   "cell_type": "code",
   "execution_count": 350,
   "outputs": [
    {
     "name": "stdout",
     "output_type": "stream",
     "text": [
      "[[0. 0. 0.]\n",
      " [0. 0. 0.]]\n",
      "float64\n"
     ]
    }
   ],
   "source": [
    "A = np.zeros((2,3))\n",
    "print(A)\n",
    "print(A.dtype)"
   ],
   "metadata": {
    "collapsed": false,
    "pycharm": {
     "name": "#%%\n"
    }
   }
  },
  {
   "cell_type": "code",
   "execution_count": 363,
   "outputs": [
    {
     "name": "stdout",
     "output_type": "stream",
     "text": [
      "[[1 1 1 1 1]\n",
      " [1 1 1 1 1]\n",
      " [1 1 1 1 1]]\n"
     ]
    }
   ],
   "source": [
    "print(np.ones((3,5),dtype = int64))"
   ],
   "metadata": {
    "collapsed": false,
    "pycharm": {
     "name": "#%%\n"
    }
   }
  },
  {
   "cell_type": "code",
   "execution_count": 366,
   "outputs": [
    {
     "name": "stdout",
     "output_type": "stream",
     "text": [
      "[1 2 3]\n"
     ]
    }
   ],
   "source": [
    "d = np.diag([1,2,3])\n",
    "print(d.diagonal())"
   ],
   "metadata": {
    "collapsed": false,
    "pycharm": {
     "name": "#%%\n"
    }
   }
  },
  {
   "cell_type": "code",
   "execution_count": 367,
   "outputs": [
    {
     "name": "stdout",
     "output_type": "stream",
     "text": [
      "[[1 3]\n",
      " [2 4]] [1 3 2 4]\n"
     ]
    }
   ],
   "source": [
    "M = np.array([[1,3],[2,4]])\n",
    "V = np.array([1,3,2,4])\n",
    "print(M,V)"
   ],
   "metadata": {
    "collapsed": false,
    "pycharm": {
     "name": "#%%\n"
    }
   }
  },
  {
   "cell_type": "code",
   "execution_count": 372,
   "outputs": [
    {
     "name": "stdout",
     "output_type": "stream",
     "text": [
      "[[1 3]\n",
      " [2 4]]\n"
     ]
    }
   ],
   "source": [
    "print(M[::1])"
   ],
   "metadata": {
    "collapsed": false,
    "pycharm": {
     "name": "#%%\n"
    }
   }
  },
  {
   "cell_type": "code",
   "execution_count": 393,
   "outputs": [
    {
     "data": {
      "text/plain": "'Cédric malanda'"
     },
     "execution_count": 393,
     "metadata": {},
     "output_type": "execute_result"
    }
   ],
   "source": [
    "#Exercice UpyLaB 5.2\n",
    "def signature (identite):\n",
    "    ''' Cette fonction recoit un couple de nom et preno\n",
    "    et retourne leur concatenation'''\n",
    "    res = identite[1] + \" \" + identite[0]\n",
    "    return res\n",
    "\n",
    "signature((\"malanda\",\"Cédric\"))"
   ],
   "metadata": {
    "collapsed": false,
    "pycharm": {
     "name": "#%%\n"
    }
   }
  },
  {
   "cell_type": "code",
   "execution_count": 443,
   "outputs": [
    {
     "data": {
      "text/plain": "True"
     },
     "execution_count": 443,
     "metadata": {},
     "output_type": "execute_result"
    }
   ],
   "source": [
    "# 5.1.7. Exercice UpyLaB 5.2 - Parcours vert bleu rouge\n",
    "def est_adn(chaine):\n",
    "    \"\"\"Cette fonction teste si la chaine de caractère donnée est non nulle et retourne True si elle est une séquence d'ADN, sinon False \"\"\"\n",
    "    #brain = [A,C,G,T]\n",
    "    if len(chaine) == 0:\n",
    "        res = False\n",
    "        return res\n",
    "    for i in range(len(chaine)):\n",
    "            if chaine[i] not in ['A','C','G','T']:\n",
    "                res = False\n",
    "                return res\n",
    "    res = True\n",
    "    return  res\n",
    "\n",
    "\n",
    "est_adn(\"CTG\")\n",
    "\n"
   ],
   "metadata": {
    "collapsed": false,
    "pycharm": {
     "name": "#%%\n"
    }
   }
  }
 ],
 "metadata": {
  "kernelspec": {
   "display_name": "Python 3",
   "language": "python",
   "name": "python3"
  },
  "language_info": {
   "codemirror_mode": {
    "name": "ipython",
    "version": 2
   },
   "file_extension": ".py",
   "mimetype": "text/x-python",
   "name": "python",
   "nbconvert_exporter": "python",
   "pygments_lexer": "ipython2",
   "version": "2.7.6"
  }
 },
 "nbformat": 4,
 "nbformat_minor": 0
}